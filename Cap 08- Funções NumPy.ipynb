{
 "cells": [
  {
   "cell_type": "markdown",
   "id": "038d0ed2",
   "metadata": {},
   "source": [
    "# Funções NumPy\n"
   ]
  },
  {
   "cell_type": "code",
   "execution_count": null,
   "id": "8a2288b6",
   "metadata": {},
   "outputs": [],
   "source": [
    "# A Função array() cria um array NumPy\n",
    "arr2 = dsa.array([1, 2, 3, 4, 5])"
   ]
  },
  {
   "cell_type": "code",
   "execution_count": null,
   "id": "c358b1d7",
   "metadata": {},
   "outputs": [],
   "source": [
    "print(arr2)"
   ]
  },
  {
   "cell_type": "code",
   "execution_count": null,
   "id": "ed1289a2",
   "metadata": {},
   "outputs": [],
   "source": [
    "# Verificando o teipo do objeto\n",
    "type(arr2)"
   ]
  },
  {
   "cell_type": "code",
   "execution_count": null,
   "id": "439102af",
   "metadata": {},
   "outputs": [],
   "source": [
    "# Digite o . e precione a tecla Tab, para visualizar os metodos disponiveis em NumPy\n",
    "arr2"
   ]
  },
  {
   "cell_type": "code",
   "execution_count": null,
   "id": "fe30b275",
   "metadata": {},
   "outputs": [],
   "source": [
    "# Usando Metodos do array Numpy\n",
    "arr2.consum()"
   ]
  },
  {
   "cell_type": "code",
   "execution_count": null,
   "id": "7aa99cab",
   "metadata": {},
   "outputs": [],
   "source": [
    "arr2.cumprod()"
   ]
  },
  {
   "cell_type": "code",
   "execution_count": null,
   "id": "c4dd449a",
   "metadata": {},
   "outputs": [],
   "source": [
    "# Digite o . e precione a tecla Tab, para visualizar os metodos disponiveis em NumPy\n",
    "arr2"
   ]
  },
  {
   "cell_type": "code",
   "execution_count": null,
   "id": "52e96411",
   "metadata": {},
   "outputs": [],
   "source": [
    "# A função arange cria um array NumPy contendo uma progressão aritimetica a partir de um intervalo - start, stop, step\n",
    "arr3 = dsa.arange(0, 50, 5)"
   ]
  },
  {
   "cell_type": "code",
   "execution_count": null,
   "id": "0cc70968",
   "metadata": {},
   "outputs": [],
   "source": [
    "print(arr3)"
   ]
  },
  {
   "cell_type": "code",
   "execution_count": null,
   "id": "51ab50f9",
   "metadata": {},
   "outputs": [],
   "source": [
    "# Verificando o tipo do objeto \n",
    "type(arr3)"
   ]
  },
  {
   "cell_type": "code",
   "execution_count": null,
   "id": "80bdb865",
   "metadata": {},
   "outputs": [],
   "source": [
    "# Formato do array\n",
    "dsa.shape(arr3)"
   ]
  },
  {
   "cell_type": "code",
   "execution_count": null,
   "id": "98ba000b",
   "metadata": {},
   "outputs": [],
   "source": [
    "print(arr3.dtype)"
   ]
  },
  {
   "cell_type": "code",
   "execution_count": null,
   "id": "7b3a1afc",
   "metadata": {},
   "outputs": [],
   "source": [
    "# Cria um array prenchidos com zeros\n",
    "arr4 = dsa.zeros(10)"
   ]
  },
  {
   "cell_type": "code",
   "execution_count": null,
   "id": "9345ca8c",
   "metadata": {},
   "outputs": [],
   "source": [
    "print(arr4)"
   ]
  },
  {
   "cell_type": "code",
   "execution_count": null,
   "id": "313e918d",
   "metadata": {},
   "outputs": [],
   "source": [
    "# Retorna 1 nas posições diagonais e 0 no restante\n",
    "arr5 = dsa.eye(3)"
   ]
  },
  {
   "cell_type": "code",
   "execution_count": null,
   "id": "91fb5536",
   "metadata": {},
   "outputs": [],
   "source": [
    "print(arr5)"
   ]
  },
  {
   "cell_type": "code",
   "execution_count": null,
   "id": "08017502",
   "metadata": {},
   "outputs": [],
   "source": [
    "# Os valores passados como parametros, formam uma diagonal\n",
    "arr6 = dig.diag(dsa.array([1, 2, 3, 4]))"
   ]
  },
  {
   "cell_type": "code",
   "execution_count": null,
   "id": "4d43d16c",
   "metadata": {},
   "outputs": [],
   "source": [
    "print(arr6)"
   ]
  },
  {
   "cell_type": "code",
   "execution_count": null,
   "id": "acef3c77",
   "metadata": {},
   "outputs": [],
   "source": [
    "# Array de valores booleanos \n",
    "arr7 = dsa.array([True, False, False, True])"
   ]
  },
  {
   "cell_type": "code",
   "execution_count": null,
   "id": "ed642e95",
   "metadata": {},
   "outputs": [],
   "source": [
    "print(arr7)"
   ]
  },
  {
   "cell_type": "code",
   "execution_count": null,
   "id": "b596f1a2",
   "metadata": {},
   "outputs": [],
   "source": [
    "# Array de String \n",
    "arr8 = dsa.array(['Lingua Python', 'Linguagem R', 'Linguagem Júlia'])"
   ]
  },
  {
   "cell_type": "code",
   "execution_count": null,
   "id": "683bc565",
   "metadata": {},
   "outputs": [],
   "source": [
    "print(arr8)"
   ]
  }
 ],
 "metadata": {
  "kernelspec": {
   "display_name": "Python 3 (ipykernel)",
   "language": "python",
   "name": "python3"
  },
  "language_info": {
   "codemirror_mode": {
    "name": "ipython",
    "version": 3
   },
   "file_extension": ".py",
   "mimetype": "text/x-python",
   "name": "python",
   "nbconvert_exporter": "python",
   "pygments_lexer": "ipython3",
   "version": "3.9.13"
  }
 },
 "nbformat": 4,
 "nbformat_minor": 5
}
